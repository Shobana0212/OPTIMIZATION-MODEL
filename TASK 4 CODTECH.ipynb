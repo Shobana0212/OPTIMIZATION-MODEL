{
 "cells": [
  {
   "cell_type": "code",
   "execution_count": 1,
   "id": "c77cc665-7bea-4ea7-92ba-2b5c24d74e42",
   "metadata": {},
   "outputs": [
    {
     "name": "stdout",
     "output_type": "stream",
     "text": [
      "Status: Optimal\n",
      "Produce Product A (units): 20.0\n",
      "Produce Product B (units): 15.0\n",
      "Maximum Profit (₹): 850.0\n"
     ]
    }
   ],
   "source": [
    "# Step 1: Import PuLP\n",
    "import pulp\n",
    "\n",
    "# Step 2: Define the problem\n",
    "model = pulp.LpProblem(\"Maximize_Profit\", pulp.LpMaximize)\n",
    "\n",
    "# Step 3: Define decision variables\n",
    "x1 = pulp.LpVariable(\"Product_A\", lowBound=0, cat='Continuous')\n",
    "x2 = pulp.LpVariable(\"Product_B\", lowBound=0, cat='Continuous')\n",
    "\n",
    "# Step 4: Objective function\n",
    "model += 20 * x1 + 30 * x2, \"Total_Profit\"\n",
    "\n",
    "# Step 5: Constraints\n",
    "model += 2 * x1 + 4 * x2 <= 100, \"Labor_Hours\"\n",
    "model += 3 * x1 + 2 * x2 <= 90, \"Raw_Material\"\n",
    "\n",
    "# Step 6: Solve the problem\n",
    "model.solve()\n",
    "\n",
    "# Step 7: Output the results\n",
    "print(\"Status:\", pulp.LpStatus[model.status])\n",
    "print(\"Produce Product A (units):\", x1.varValue)\n",
    "print(\"Produce Product B (units):\", x2.varValue)\n",
    "print(\"Maximum Profit (₹):\", pulp.value(model.objective))\n"
   ]
  },
  {
   "cell_type": "code",
   "execution_count": null,
   "id": "97e562e7-be59-479b-8b44-64c8f63484d6",
   "metadata": {},
   "outputs": [],
   "source": []
  }
 ],
 "metadata": {
  "kernelspec": {
   "display_name": "Python [conda env:base] *",
   "language": "python",
   "name": "conda-base-py"
  },
  "language_info": {
   "codemirror_mode": {
    "name": "ipython",
    "version": 3
   },
   "file_extension": ".py",
   "mimetype": "text/x-python",
   "name": "python",
   "nbconvert_exporter": "python",
   "pygments_lexer": "ipython3",
   "version": "3.12.7"
  }
 },
 "nbformat": 4,
 "nbformat_minor": 5
}
